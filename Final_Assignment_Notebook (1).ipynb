{
 "cells": [
  {
   "cell_type": "code",
   "execution_count": 1,
   "id": "13b194aa-200c-4e88-be48-0da1b72d183c",
   "metadata": {
    "tags": []
   },
   "outputs": [],
   "source": [
    "# Final Assignment Notebook"
   ]
  },
  {
   "cell_type": "code",
   "execution_count": null,
   "id": "ebc7a22d-39f1-475c-b894-6882076d03f7",
   "metadata": {},
   "outputs": [],
   "source": [
    "## Introduction\n",
    "This notebook contains the final assignment for the JupyterLite Notebook course."
   ]
  },
  {
   "cell_type": "code",
   "execution_count": null,
   "id": "493840d4-6b00-42b1-b2f5-5377a65cb895",
   "metadata": {},
   "outputs": [],
   "source": [
    "## Data Science Languages\n",
    "1. Python\n",
    "2. R\n",
    "3. Julia"
   ]
  },
  {
   "cell_type": "code",
   "execution_count": null,
   "id": "f8ff2bc4-47a1-48fc-acc4-e16d3f1e5ecf",
   "metadata": {},
   "outputs": [],
   "source": [
    "## Data Science Libraries\n",
    "1. Pandas\n",
    "2. NumPy\n",
    "3. SciPy\n",
    "4. scikit-learn\n",
    "5. ggplot2\n",
    "6. dplyr"
   ]
  },
  {
   "cell_type": "code",
   "execution_count": null,
   "id": "96f3a687-6fb7-47d5-979d-459356de885e",
   "metadata": {},
   "outputs": [],
   "source": [
    "## Data Science Tools\n",
    "| Tool | Description |\n",
    "| --- | --- |\n",
    "| Jupyter | Interactive computing environment |\n",
    "| RStudio | IDE for R |\n",
    "| Apache Spark | Distributed data processing |"
   ]
  },
  {
   "cell_type": "code",
   "execution_count": null,
   "id": "9f21b8e6-6224-4391-ad16-616e17a745a3",
   "metadata": {},
   "outputs": [],
   "source": [
    "## Arithmetic Expressions\n",
    "Examples of basic arithmetic operations:\n",
    "- Addition: `3 + 5`\n",
    "- Subtraction: `10 - 2`\n",
    "- Multiplication: `4 * 7`\n",
    "- Division: `20 / 4`"
   ]
  },
  {
   "cell_type": "code",
   "execution_count": 3,
   "id": "66c3c94a-3823-43df-9cfb-073ae92e3d4d",
   "metadata": {
    "tags": []
   },
   "outputs": [
    {
     "data": {
      "text/plain": [
       "17"
      ]
     },
     "execution_count": 3,
     "metadata": {},
     "output_type": "execute_result"
    }
   ],
   "source": [
    "# Multiplication and Addition\n",
    "result = (3 * 4) + 5\n",
    "result"
   ]
  },
  {
   "cell_type": "code",
   "execution_count": 4,
   "id": "51ba2f05-8982-4943-b1f1-23a770d5d6d4",
   "metadata": {
    "tags": []
   },
   "outputs": [
    {
     "data": {
      "text/plain": [
       "2.0"
      ]
     },
     "execution_count": 4,
     "metadata": {},
     "output_type": "execute_result"
    }
   ],
   "source": [
    "# Convert minutes to hours\n",
    "minutes = 120\n",
    "hours = minutes / 60\n",
    "hours"
   ]
  },
  {
   "cell_type": "code",
   "execution_count": null,
   "id": "072dc4b5-206e-4cbc-8cfb-11b4e6c51397",
   "metadata": {},
   "outputs": [],
   "source": [
    "## Objectives\n",
    "1. Understand data science languages and libraries.\n",
    "2. Learn about various data science tools.\n",
    "3. Implement arithmetic operations in code."
   ]
  },
  {
   "cell_type": "code",
   "execution_count": null,
   "id": "e496a2be-6b0b-4d1d-8163-25750d13375c",
   "metadata": {},
   "outputs": [],
   "source": [
    "## Author\n",
    "Amin Moj"
   ]
  }
 ],
 "metadata": {
  "kernelspec": {
   "display_name": "Python",
   "language": "python",
   "name": "conda-env-python-py"
  },
  "language_info": {
   "codemirror_mode": {
    "name": "ipython",
    "version": 3
   },
   "file_extension": ".py",
   "mimetype": "text/x-python",
   "name": "python",
   "nbconvert_exporter": "python",
   "pygments_lexer": "ipython3",
   "version": "3.7.12"
  }
 },
 "nbformat": 4,
 "nbformat_minor": 5
}
